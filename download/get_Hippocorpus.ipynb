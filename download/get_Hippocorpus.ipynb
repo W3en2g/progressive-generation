{
 "cells": [
  {
   "cell_type": "code",
   "execution_count": 12,
   "metadata": {},
   "outputs": [
    {
     "name": "stderr",
     "output_type": "stream",
     "text": [
      "4281it [00:00, 1426763.24it/s]\n"
     ]
    },
    {
     "name": "stdout",
     "output_type": "stream",
     "text": [
      "#train: 4281\n"
     ]
    },
    {
     "name": "stderr",
     "output_type": "stream",
     "text": [
      "2140it [00:00, 713441.74it/s]\n"
     ]
    },
    {
     "name": "stdout",
     "output_type": "stream",
     "text": [
      "#dev: 2140\n"
     ]
    },
    {
     "name": "stderr",
     "output_type": "stream",
     "text": [
      "428it [00:00, ?it/s]"
     ]
    },
    {
     "name": "stdout",
     "output_type": "stream",
     "text": [
      "#test: 428\n"
     ]
    },
    {
     "name": "stderr",
     "output_type": "stream",
     "text": [
      "\n"
     ]
    }
   ],
   "source": [
    "import os\n",
    "import pickle\n",
    "from tqdm import tqdm\n",
    "import pandas as pd\n",
    "\n",
    "import sys\n",
    "sys.path.append(\"../\")\n",
    "from basic_setting import Paths\n",
    "\n",
    "def main():\n",
    "    \n",
    "    save_dir = 'data/Hip'\n",
    "    os.makedirs(save_dir, exist_ok=True)\n",
    "\n",
    "    currPath = Paths(\"Hippocorpus\")\n",
    "    data=pd.read_csv(currPath.data_folder+\"/hcV3-stories.csv\")\n",
    "    prompts = data['mainEvent'].tolist()\n",
    "    stories = data['story'].tolist()\n",
    "\n",
    "    split_size = {\n",
    "        'train': int((10/16)*len(prompts)),\n",
    "        'dev': int((5/16)*len(prompts)),\n",
    "        'test': int((1/16)*len(prompts)),\n",
    "    }\n",
    "\n",
    "    split_range = {\n",
    "        'train': [0, split_size['train']],\n",
    "        'dev': [split_size['train'], split_size['train'] + split_size['dev']],\n",
    "        'test': [split_size['train'] + split_size['dev'], split_size['train'] + split_size['dev'] + split_size['test']],\n",
    "    }\n",
    "\n",
    "\n",
    "\n",
    "    for split in ['train', 'dev', 'test']:\n",
    "        examples = []\n",
    "        for src, tgt in tqdm(zip(prompts[split_range[split][0]:split_range[split][1]], stories[split_range[split][0]:split_range[split][1]])):\n",
    "\n",
    "            examples.append({\n",
    "                'condition': src,\n",
    "                'text': tgt\n",
    "            })\n",
    "\n",
    "\n",
    "        print(f'#{split}: {len(examples)}')\n",
    "        pickle.dump(examples, open(f'{save_dir}/{split}.pickle', 'wb'))\n",
    "\n",
    "\n",
    "if __name__ == '__main__':\n",
    "    main()\n"
   ]
  },
  {
   "cell_type": "code",
   "execution_count": 4,
   "metadata": {},
   "outputs": [
    {
     "data": {
      "text/plain": [
       "3750.0"
      ]
     },
     "execution_count": 4,
     "metadata": {},
     "output_type": "execute_result"
    }
   ],
   "source": [
    "(10/16)*6000"
   ]
  }
 ],
 "metadata": {
  "kernelspec": {
   "display_name": "allenNLP",
   "language": "python",
   "name": "python3"
  },
  "language_info": {
   "codemirror_mode": {
    "name": "ipython",
    "version": 3
   },
   "file_extension": ".py",
   "mimetype": "text/x-python",
   "name": "python",
   "nbconvert_exporter": "python",
   "pygments_lexer": "ipython3",
   "version": "3.7.12"
  },
  "orig_nbformat": 4,
  "vscode": {
   "interpreter": {
    "hash": "6b9ab3d7aeb713bb23367aacbf7bd3157791efac18b94bcf3d7fa9b071a27650"
   }
  }
 },
 "nbformat": 4,
 "nbformat_minor": 2
}
